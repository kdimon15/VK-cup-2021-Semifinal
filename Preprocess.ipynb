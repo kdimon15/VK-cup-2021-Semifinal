{
 "cells": [
  {
   "cell_type": "code",
   "execution_count": 14,
   "metadata": {},
   "outputs": [],
   "source": [
    "import pandas as pd\n",
    "import numpy as np\n",
    "from catboost import CatBoostRegressor, Pool\n",
    "from tqdm.notebook import tqdm"
   ]
  },
  {
   "cell_type": "code",
   "execution_count": 19,
   "metadata": {},
   "outputs": [],
   "source": [
    "train_df = pd.read_csv('data_full/train.csv')\n",
    "train_ed = pd.read_csv('data_full/trainEducationFeatures.csv')\n",
    "train_groups_df = pd.read_csv('data_full/trainGroups.csv')\n",
    "friends_df = pd.read_csv('data_full/friends.csv')\n",
    "train_df = train_df.merge(train_ed)"
   ]
  },
  {
   "cell_type": "code",
   "execution_count": 20,
   "metadata": {},
   "outputs": [],
   "source": [
    "everyone = set(np.concatenate((friends_df.uid.unique(), friends_df.fuid.unique(), train_groups_df.uid.unique(), train_df.uid.unique())))\n",
    "groups_dic = {str(x):[] for x in train_groups_df.gid.values}\n",
    "users_dic = {str(x): {\n",
    "    'age': np.nan,\n",
    "    'registered_year': np.nan,\n",
    "    'school_education': np.nan,\n",
    "    'graduation_1': np.nan,\n",
    "    'graduation_2': np.nan,\n",
    "    'graduation_3': np.nan,\n",
    "    'graduation_4': np.nan,\n",
    "    'graduation_5': np.nan,\n",
    "    'graduation_6': np.nan,\n",
    "    'graduation_7': np.nan,\n",
    "    'friends': [],\n",
    "    'groups': []\n",
    "} for x in everyone}"
   ]
  },
  {
   "cell_type": "code",
   "execution_count": 21,
   "metadata": {},
   "outputs": [
    {
     "data": {
      "application/vnd.jupyter.widget-view+json": {
       "model_id": "9c98593df42a44abb91645f7eb97be7b",
       "version_major": 2,
       "version_minor": 0
      },
      "text/plain": [
       "HBox(children=(HTML(value=''), FloatProgress(value=0.0, max=4109877.0), HTML(value='')))"
      ]
     },
     "metadata": {},
     "output_type": "display_data"
    },
    {
     "name": "stdout",
     "output_type": "stream",
     "text": [
      "\n"
     ]
    },
    {
     "data": {
      "application/vnd.jupyter.widget-view+json": {
       "model_id": "1c1952ffe4554f8ba97d38256fb2f87c",
       "version_major": 2,
       "version_minor": 0
      },
      "text/plain": [
       "HBox(children=(HTML(value=''), FloatProgress(value=0.0, max=1086091.0), HTML(value='')))"
      ]
     },
     "metadata": {},
     "output_type": "display_data"
    },
    {
     "name": "stdout",
     "output_type": "stream",
     "text": [
      "\n"
     ]
    }
   ],
   "source": [
    "columns = ['registered_year', 'school_education', 'graduation_1', \"graduation_2\", 'graduation_3', 'graduation_4', 'graduation_5', 'graduation_6', 'graduation_7']\n",
    "start_values = [2005, 2039, 2043, 2044, 2045, 2046, 2047, 2048, 2049]\n",
    "uids, ages, registred_years = train_df.uid.values, train_df.age.values, train_df.registered_year.values\n",
    "for i in range(len(train_df)):\n",
    "    users_dic[str(uids[i])]['age'] = ages[i]\n",
    "    for j in range(len(columns)):\n",
    "        users_dic[str(uids[i])][columns[j]] = abs(start_values[j] - train_df[columns[j]].values[i])\n",
    "        \n",
    "        \n",
    "uids, fuids = friends_df.uid.values.tolist(), friends_df.fuid.values.tolist()\n",
    "for i in tqdm(range(len(friends_df))):\n",
    "    users_dic[str(uids[i])]['friends'].append(fuids[i])\n",
    "    users_dic[str(fuids[i])]['friends'].append(uids[i])\n",
    "del uids, fuids\n",
    "    \n",
    "uids, gids = train_groups_df.uid.values.tolist(), train_groups_df.gid.values.tolist()\n",
    "for i in tqdm(range(len(train_groups_df))):\n",
    "    groups_dic[str(gids[i])].append(str(uids[i]))\n",
    "    users_dic[str(uids[i])]['groups'].append(str(gids[i]))"
   ]
  },
  {
   "cell_type": "code",
   "execution_count": 22,
   "metadata": {},
   "outputs": [],
   "source": [
    "import pickle\n",
    "with open('dicts/users_dict_all.pkl', 'wb') as f:\n",
    "    pickle.dump(users_dic, f)\n",
    "with open('dicts/group_dict_all.pkl', 'wb') as f:\n",
    "    pickle.dump(groups_dic, f)"
   ]
  },
  {
   "cell_type": "code",
   "execution_count": null,
   "metadata": {},
   "outputs": [],
   "source": []
  }
 ],
 "metadata": {
  "kernelspec": {
   "display_name": "Python 3",
   "language": "python",
   "name": "python3"
  },
  "language_info": {
   "codemirror_mode": {
    "name": "ipython",
    "version": 3
   },
   "file_extension": ".py",
   "mimetype": "text/x-python",
   "name": "python",
   "nbconvert_exporter": "python",
   "pygments_lexer": "ipython3",
   "version": "3.8.5"
  }
 },
 "nbformat": 4,
 "nbformat_minor": 4
}
